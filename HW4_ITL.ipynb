{
  "cells": [
    {
      "cell_type": "code",
      "execution_count": 1,
      "metadata": {
        "id": "T9QuFS-TQ6z7"
      },
      "outputs": [],
      "source": [
        "import numpy as np\n",
        "import matplotlib.pyplot as plt\n",
        "import time\n",
        "from tqdm.notebook import tqdm"
      ]
    },
    {
      "cell_type": "code",
      "execution_count": 2,
      "metadata": {
        "id": "nzMFd_bkTHtx"
      },
      "outputs": [],
      "source": [
        "L = 30 \n",
        "N = 10000 \n",
        "J = 1 \n",
        "\n",
        "config_1 = np.random.choice([-1,1], size = (L,L), p = [1/2,1/2])\n",
        "\n",
        "config_2 = np.ones((L,L))"
      ]
    },
    {
      "cell_type": "code",
      "execution_count": 3,
      "metadata": {
        "id": "NY0cOuCgUrk3"
      },
      "outputs": [],
      "source": [
        "def delta_E(config, L, J, i, j):\n",
        "    if i > 0 and i < L-1 and j > 0 and j < L-1:\n",
        "        return -2 * (-J) * config[i,j] * (config[i-1,j] + config[i,j-1] + config[i+1,j] + config[i,j+1])\n",
        "    \n",
        "    elif i == 0 and j > 0 and j < L-1:\n",
        "        return -2 * (-J) *  config[i,j] * (config[i,j-1] + config[i+1,j] + config[i,j+1])\n",
        "    \n",
        "    elif i == L - 1 and j > 0 and j < L-1:\n",
        "        return -2 * (-J) * config[i,j] * (config[i-1,j] + config[i,j-1] +  config[i,j+1]) \n",
        "\n",
        "    elif j == 0 and i > 0 and i < L-1 :\n",
        "        return -2 * (-J) * config[i,j] * (config[i-1,j] + config[i+1,j] + config[i,j+1]) \n",
        "\n",
        "    elif j == L-1 and i > 0 and i < L-1 : \n",
        "        return -2 * (-J) * config[i,j] * (config[i-1,j] + config[i,j-1] + config[i+1,j]) \n",
        "\n",
        "    elif i == 0 and j == 0: \n",
        "        return -2 * (-J) * config[i,j] * (config[i+1,j] + config[i,j+1]) \n",
        "\n",
        "    elif i == 0 and j == L-1: \n",
        "        return -2 * (-J) * config[i,j] * (config[i,j-1] + config[i+1,j]) \n",
        "\n",
        "    elif i == L-1 and j == 0: \n",
        "        return -2 * (-J) * config[i,j] * (config[i-1,j] + config[i,j+1]) \n",
        "\n",
        "    elif i == L-1 and j == L-1: \n",
        "        return -2 * (-J) * config[i,j] * (config[i-1,j] + config[i,j-1]) \n",
        "\n",
        "    else : \n",
        "        print (i,j)\n",
        "\n",
        "def delta_E2(config, L, J, i, j):\n",
        "    return -2 * (-J) * config[i,j] * (config[i-1,j]*(i > 0) + config[i,j-1] * (j > 0) + config[i+1,j] * (i< L-1) + config[i,j+1] * (j < L-1))\n",
        "\n",
        "def Monte_Carlo(N, L, config, J, beta):\n",
        "    new_config = np.copy(config)\n",
        "    configs = []\n",
        "    for n in range(N):\n",
        "        for l in range(L*L):\n",
        "            temp_config = np.copy(new_config)\n",
        "            i = np.random.randint(L)\n",
        "            j = np.random.randint(L)\n",
        "            temp_config[i,j] = -1 * temp_config[i,j]\n",
        "            delta_e = delta_E(new_config, L, J, i, j)\n",
        "\n",
        "            # r = np.random.random_sample()\n",
        "            # p = np.exp(-1 * beta * delta_e)\n",
        "            if delta_e < 0 :\n",
        "                new_config = np.copy(temp_config)\n",
        "            elif np.random.random_sample() <=  np.exp(-1 * beta * delta_e): \n",
        "                new_config = np.copy(temp_config)\n",
        "\n",
        "          \n",
        "        if n % 100 == 0:\n",
        "            configs.append(new_config)\n",
        "\n",
        "    return np.mean(configs)"
      ]
    },
    {
      "cell_type": "code",
      "execution_count": 7,
      "metadata": {
        "id": "v63Ags8fSz6-"
      },
      "outputs": [
        {
          "data": {
            "application/vnd.jupyter.widget-view+json": {
              "model_id": "7208fb0ca2574a7aa325416ced9cbb07",
              "version_major": 2,
              "version_minor": 0
            },
            "text/plain": [
              "HBox(children=(HTML(value=''), FloatProgress(value=0.0), HTML(value='')))"
            ]
          },
          "metadata": {},
          "output_type": "display_data"
        },
        {
          "name": "stdout",
          "output_type": "stream",
          "text": [
            "0.0007555555555555555\n",
            "0.0017777777777777779\n",
            "0.004177777777777778\n",
            "-0.0006\n",
            "0.0020666666666666667\n",
            "0.007022222222222222\n",
            "0.00022222222222222223\n",
            "0.00046666666666666666\n",
            "-0.00017777777777777779\n",
            "0.0004\n",
            "-0.005755555555555555\n",
            "-0.0023777777777777777\n",
            "-0.008088888888888889\n",
            "0.0038666666666666667\n",
            "-0.0026\n",
            "0.0006222222222222223\n",
            "-0.0005555555555555556\n",
            "0.0026\n",
            "-0.00046666666666666666\n",
            "-0.0023333333333333335\n",
            "-0.009577777777777777\n",
            "-0.003533333333333333\n",
            "-4.4444444444444447e-05\n",
            "-0.00848888888888889\n",
            "0.0015777777777777778\n",
            "0.003511111111111111\n",
            "-0.011733333333333333\n",
            "0.0002888888888888889\n",
            "0.008444444444444444\n",
            "-0.0023555555555555556\n",
            "-0.0031777777777777776\n",
            "0.014\n",
            "0.0014444444444444444\n",
            "-0.001\n",
            "-0.0046\n",
            "0.004688888888888889\n",
            "-0.005644444444444444\n",
            "0.01211111111111111\n",
            "0.016133333333333333\n",
            "0.013222222222222222\n",
            "-0.015155555555555556\n",
            "-0.03253333333333333\n",
            "0.0753111111111111\n",
            "-0.08826666666666666\n",
            "-0.109\n",
            "-0.11502222222222222\n",
            "-0.5020666666666667\n",
            "-0.6624222222222222\n",
            "-0.7142888888888889\n",
            "0.4288666666666667\n",
            "-0.7991111111111111\n",
            "-0.8107333333333333\n",
            "-0.8461111111111111\n",
            "0.8804222222222222\n",
            "-0.8836444444444445\n",
            "0.8805333333333333\n",
            "-0.9078666666666667\n",
            "-0.9166666666666666\n",
            "-0.9146444444444445\n",
            "-0.9296666666666666\n",
            "-0.9367777777777778\n",
            "-0.9432\n",
            "-0.9471333333333334\n",
            "0.9444222222222223\n",
            "0.9251333333333334\n",
            "0.9400222222222222\n",
            "0.8310666666666666\n",
            "-0.9679555555555556\n",
            "0.9615111111111111\n",
            "-0.9634\n",
            "-0.7037777777777777\n",
            "0.9082444444444444\n",
            "-0.9662222222222222\n",
            "-0.9698888888888889\n",
            "0.9742222222222222\n",
            "0.9773555555555555\n",
            "-0.97\n",
            "-0.9773333333333334\n",
            "-0.9792\n",
            "-0.9755111111111111\n",
            "-0.9792444444444445\n",
            "-0.9749333333333333\n",
            "-0.9839555555555556\n",
            "0.9705555555555555\n",
            "-0.5640888888888889\n",
            "-0.9851555555555556\n",
            "0.9859111111111111\n",
            "0.9788444444444444\n",
            "-0.9823111111111111\n",
            "0.7600888888888889\n",
            "-0.9863555555555555\n",
            "-0.9803111111111111\n",
            "-0.9878888888888889\n",
            "-0.9860444444444444\n",
            "-0.9875333333333334\n",
            "-0.8877777777777778\n",
            "-0.9880444444444444\n",
            "0.9771111111111112\n",
            "-0.9872222222222222\n",
            "-0.9894\n",
            "\n"
          ]
        }
      ],
      "source": [
        "res2 = []\n",
        "\n",
        "for i in tqdm(range(100)):\n",
        "    beta =  i * 0.01\n",
        "    temp = Monte_Carlo(N, L, config_1, J, beta)\n",
        "    res2.append(temp)\n",
        "    print(temp)"
      ]
    },
    {
      "cell_type": "code",
      "execution_count": 8,
      "metadata": {
        "id": "iTwzoCu1S2k_"
      },
      "outputs": [
        {
          "data": {
            "image/png": "[encoded data removed]",
            "text/plain": [
              "<Figure size 432x288 with 1 Axes>"
            ]
          },
          "metadata": {
            "needs_background": "light"
          },
          "output_type": "display_data"
        }
      ],
      "source": [
        "plt.plot(np.linspace(0.0,1.0,num = 100), np.abs(np.array(res2)))\n",
        "plt.title(\"Absolute value of average magnetization vs. beta\")\n",
        "plt.ylabel('[E[Magnetization]]+')\n",
        "plt.xlabel('Beta')\n",
        "plt.show()"
      ]
    },
    {
      "cell_type": "code",
      "execution_count": 9,
      "metadata": {
        "colab": {
          "base_uri": "https://localhost:8080/"
        },
        "id": "ZrZvHShNS2lA",
        "outputId": "9b87cbed-7f17-43db-e03a-5ce4e5c2f2ef"
      },
      "outputs": [
        {
          "data": {
            "image/png": "[encoded data removed]",
            "text/plain": [
              "<Figure size 432x288 with 1 Axes>"
            ]
          },
          "metadata": {
            "needs_background": "light"
          },
          "output_type": "display_data"
        }
      ],
      "source": [
        "plt.plot(np.linspace(0.0,1.0,num = 100), np.array(res2))\n",
        "plt.title(\"Average magnetization vs. beta\")\n",
        "plt.ylabel('E[Magnetization]')\n",
        "plt.xlabel('Beta')\n",
        "plt.show()"
      ]
    },
    {
      "cell_type": "code",
      "execution_count": 10,
      "metadata": {
        "colab": {
          "base_uri": "https://localhost:8080/",
          "height": 516,
          "referenced_widgets": [
            "c327b07da56c4a3cac7e6e928bbe7ae8",
            "a9167e583d7c4e058214680c8c9ff277",
            "f21307ae4ce046ef9db8f1396615ec6f",
            "5c717ae95aa34c00bf595751bcd115c3",
            "dd8475e645f640adb39852d6d6f5bbdb",
            "09a0a70664564c078bc815880094e040",
            "9812514d262b4d8596b4173933d892d5",
            "f0b05f3f965c4063b3151bab85587e6e",
            "941207b1074a4f36b0b942377be382dd",
            "7ce48f5e60dc405a9baf36c41af54d8a",
            "e0653f3d1a9c4f7989893424d36c9394"
          ]
        },
        "id": "DPiF_MwYTVb0",
        "outputId": "aef4fd2a-e930-4466-939d-97789c37e04f"
      },
      "outputs": [
        {
          "data": {
            "application/vnd.jupyter.widget-view+json": {
              "model_id": "39db2aae2fbb4e34b838cabad243ed94",
              "version_major": 2,
              "version_minor": 0
            },
            "text/plain": [
              "HBox(children=(HTML(value=''), FloatProgress(value=0.0), HTML(value='')))"
            ]
          },
          "metadata": {},
          "output_type": "display_data"
        },
        {
          "name": "stdout",
          "output_type": "stream",
          "text": [
            "8.888888888888889e-05\n",
            "0.003711111111111111\n",
            "0.004244444444444445\n",
            "-0.003022222222222222\n",
            "-0.0016444444444444445\n",
            "0.00811111111111111\n",
            "0.0011111111111111111\n",
            "0.0034666666666666665\n",
            "0.00968888888888889\n",
            "0.0026222222222222224\n",
            "0.0057777777777777775\n",
            "0.009488888888888889\n",
            "0.008844444444444445\n",
            "0.0009111111111111111\n",
            "0.0023333333333333335\n",
            "0.0074\n",
            "0.018711111111111112\n",
            "-0.0026\n",
            "0.012555555555555556\n",
            "0.006533333333333334\n",
            "0.002688888888888889\n",
            "0.006555555555555556\n",
            "-0.003311111111111111\n",
            "0.006311111111111111\n",
            "0.012088888888888889\n",
            "0.0102\n",
            "0.017355555555555555\n",
            "0.010666666666666666\n",
            "-0.003288888888888889\n",
            "0.020733333333333333\n",
            "0.0014\n",
            "0.0030666666666666668\n",
            "0.009266666666666666\n",
            "0.01622222222222222\n",
            "0.01411111111111111\n",
            "-0.007688888888888889\n",
            "0.017955555555555554\n",
            "-0.012911111111111111\n",
            "-0.003977777777777778\n",
            "0.0074\n",
            "0.03995555555555556\n",
            "0.010555555555555556\n",
            "-0.013\n",
            "0.14295555555555556\n",
            "-0.042133333333333335\n",
            "0.18213333333333334\n",
            "0.19993333333333332\n",
            "0.6651555555555556\n",
            "0.7262888888888889\n",
            "0.7778222222222222\n",
            "0.8098444444444445\n",
            "0.842\n",
            "0.8722888888888889\n",
            "0.8812\n",
            "0.9004444444444445\n",
            "0.9184444444444444\n",
            "0.9236444444444445\n",
            "0.9285111111111111\n",
            "0.941\n",
            "0.9459111111111111\n",
            "0.9502888888888888\n",
            "0.9551555555555555\n",
            "0.9627555555555556\n",
            "0.9647333333333333\n",
            "0.9704444444444444\n",
            "0.9697111111111111\n",
            "0.9727333333333333\n",
            "0.9755111111111111\n",
            "0.9771333333333333\n",
            "0.9800666666666666\n",
            "0.9816666666666667\n",
            "0.9833777777777778\n",
            "0.9838222222222223\n",
            "0.9855777777777778\n",
            "0.9877777777777778\n",
            "0.9883777777777778\n",
            "0.9884444444444445\n",
            "0.9895333333333334\n",
            "0.9907555555555555\n",
            "0.9917111111111111\n",
            "0.992\n",
            "0.9927333333333334\n",
            "0.9921777777777778\n",
            "0.9937111111111111\n",
            "0.9943111111111111\n",
            "0.9942444444444445\n",
            "0.9945555555555555\n",
            "0.9958888888888889\n",
            "0.9954444444444445\n",
            "0.9962222222222222\n",
            "0.9969111111111111\n",
            "0.9961555555555556\n",
            "0.9965777777777778\n",
            "0.9967333333333334\n",
            "0.9972888888888889\n",
            "0.9977333333333334\n",
            "0.9974222222222222\n",
            "0.9980222222222223\n",
            "0.9982222222222222\n",
            "0.9981777777777778\n",
            "\n"
          ]
        }
      ],
      "source": [
        "res = []\n",
        "\n",
        "for i in tqdm(range(100)):\n",
        "    beta =  i * 0.01\n",
        "    temp = Monte_Carlo(N, L, config_2, J, beta)\n",
        "    res.append(temp)\n",
        "    print(temp)"
      ]
    },
    {
      "cell_type": "code",
      "execution_count": 11,
      "metadata": {
        "id": "WtuG0JiyTYxE"
      },
      "outputs": [
        {
          "data": {
            "image/png": "[encoded data removed]",
            "text/plain": [
              "<Figure size 432x288 with 1 Axes>"
            ]
          },
          "metadata": {
            "needs_background": "light"
          },
          "output_type": "display_data"
        }
      ],
      "source": [
        "plt.plot(np.linspace(0.0,1.0,num = 100), np.abs(np.array(res)))\n",
        "plt.title(\"Absolute value of average magnetization vs. beta\")\n",
        "plt.ylabel('[E[Magnetization]]+')\n",
        "plt.xlabel('Beta')\n",
        "plt.show()"
      ]
    },
    {
      "cell_type": "code",
      "execution_count": 12,
      "metadata": {
        "colab": {
          "base_uri": "https://localhost:8080/"
        },
        "id": "NpoAK6hPlDze",
        "outputId": "9b87cbed-7f17-43db-e03a-5ce4e5c2f2ef"
      },
      "outputs": [
        {
          "data": {
            "image/png": "[encoded data removed]",
            "text/plain": [
              "<Figure size 432x288 with 1 Axes>"
            ]
          },
          "metadata": {
            "needs_background": "light"
          },
          "output_type": "display_data"
        }
      ],
      "source": [
        "plt.plot(np.linspace(0.0,1.0,num = 100), np.array(res))\n",
        "plt.title(\"Average magnetization vs. beta\")\n",
        "plt.ylabel('E[Magnetization]')\n",
        "plt.xlabel('Beta')\n",
        "plt.show()"
      ]
    }
  ],
  "metadata": {
    "colab": {
      "name": "HW4_ITL.ipynb",
      "provenance": []
    },
    "kernelspec": {
      "display_name": "Python 3",
      "name": "python3"
    },
    "language_info": {
      "codemirror_mode": {
        "name": "ipython",
        "version": 3
      },
      "file_extension": ".py",
      "mimetype": "text/x-python",
      "name": "python",
      "nbconvert_exporter": "python",
      "pygments_lexer": "ipython3",
      "version": "3.7.9"
    },
    "widgets": {
      "application/vnd.jupyter.widget-state+json": {
        "09a0a70664564c078bc815880094e040": {
          "model_module": "@jupyter-widgets/controls",
          "model_module_version": "1.5.0",
          "model_name": "DescriptionStyleModel",
          "state": {
            "_model_module": "@jupyter-widgets/controls",
            "_model_module_version": "1.5.0",
            "_model_name": "DescriptionStyleModel",
            "_view_count": null,
            "_view_module": "@jupyter-widgets/base",
            "_view_module_version": "1.2.0",
            "_view_name": "StyleView",
            "description_width": ""
          }
        },
        "5c717ae95aa34c00bf595751bcd115c3": {
          "model_module": "@jupyter-widgets/controls",
          "model_module_version": "1.5.0",
          "model_name": "FloatProgressModel",
          "state": {
            "_dom_classes": [],
            "_model_module": "@jupyter-widgets/controls",
            "_model_module_version": "1.5.0",
            "_model_name": "FloatProgressModel",
            "_view_count": null,
            "_view_module": "@jupyter-widgets/controls",
            "_view_module_version": "1.5.0",
            "_view_name": "ProgressView",
            "bar_style": "danger",
            "description": "",
            "description_tooltip": null,
            "layout": "IPY_MODEL_941207b1074a4f36b0b942377be382dd",
            "max": 100,
            "min": 0,
            "orientation": "horizontal",
            "style": "IPY_MODEL_f0b05f3f965c4063b3151bab85587e6e",
            "value": 4
          }
        },
        "7ce48f5e60dc405a9baf36c41af54d8a": {
          "model_module": "@jupyter-widgets/controls",
          "model_module_version": "1.5.0",
          "model_name": "DescriptionStyleModel",
          "state": {
            "_model_module": "@jupyter-widgets/controls",
            "_model_module_version": "1.5.0",
            "_model_name": "DescriptionStyleModel",
            "_view_count": null,
            "_view_module": "@jupyter-widgets/base",
            "_view_module_version": "1.2.0",
            "_view_name": "StyleView",
            "description_width": ""
          }
        },
        "941207b1074a4f36b0b942377be382dd": {
          "model_module": "@jupyter-widgets/base",
          "model_module_version": "1.2.0",
          "model_name": "LayoutModel",
          "state": {
            "_model_module": "@jupyter-widgets/base",
            "_model_module_version": "1.2.0",
            "_model_name": "LayoutModel",
            "_view_count": null,
            "_view_module": "@jupyter-widgets/base",
            "_view_module_version": "1.2.0",
            "_view_name": "LayoutView",
            "align_content": null,
            "align_items": null,
            "align_self": null,
            "border": null,
            "bottom": null,
            "display": null,
            "flex": null,
            "flex_flow": null,
            "grid_area": null,
            "grid_auto_columns": null,
            "grid_auto_flow": null,
            "grid_auto_rows": null,
            "grid_column": null,
            "grid_gap": null,
            "grid_row": null,
            "grid_template_areas": null,
            "grid_template_columns": null,
            "grid_template_rows": null,
            "height": null,
            "justify_content": null,
            "justify_items": null,
            "left": null,
            "margin": null,
            "max_height": null,
            "max_width": null,
            "min_height": null,
            "min_width": null,
            "object_fit": null,
            "object_position": null,
            "order": null,
            "overflow": null,
            "overflow_x": null,
            "overflow_y": null,
            "padding": null,
            "right": null,
            "top": null,
            "visibility": null,
            "width": null
          }
        },
        "9812514d262b4d8596b4173933d892d5": {
          "model_module": "@jupyter-widgets/base",
          "model_module_version": "1.2.0",
          "model_name": "LayoutModel",
          "state": {
            "_model_module": "@jupyter-widgets/base",
            "_model_module_version": "1.2.0",
            "_model_name": "LayoutModel",
            "_view_count": null,
            "_view_module": "@jupyter-widgets/base",
            "_view_module_version": "1.2.0",
            "_view_name": "LayoutView",
            "align_content": null,
            "align_items": null,
            "align_self": null,
            "border": null,
            "bottom": null,
            "display": null,
            "flex": null,
            "flex_flow": null,
            "grid_area": null,
            "grid_auto_columns": null,
            "grid_auto_flow": null,
            "grid_auto_rows": null,
            "grid_column": null,
            "grid_gap": null,
            "grid_row": null,
            "grid_template_areas": null,
            "grid_template_columns": null,
            "grid_template_rows": null,
            "height": null,
            "justify_content": null,
            "justify_items": null,
            "left": null,
            "margin": null,
            "max_height": null,
            "max_width": null,
            "min_height": null,
            "min_width": null,
            "object_fit": null,
            "object_position": null,
            "order": null,
            "overflow": null,
            "overflow_x": null,
            "overflow_y": null,
            "padding": null,
            "right": null,
            "top": null,
            "visibility": null,
            "width": null
          }
        },
        "a9167e583d7c4e058214680c8c9ff277": {
          "model_module": "@jupyter-widgets/base",
          "model_module_version": "1.2.0",
          "model_name": "LayoutModel",
          "state": {
            "_model_module": "@jupyter-widgets/base",
            "_model_module_version": "1.2.0",
            "_model_name": "LayoutModel",
            "_view_count": null,
            "_view_module": "@jupyter-widgets/base",
            "_view_module_version": "1.2.0",
            "_view_name": "LayoutView",
            "align_content": null,
            "align_items": null,
            "align_self": null,
            "border": null,
            "bottom": null,
            "display": null,
            "flex": null,
            "flex_flow": null,
            "grid_area": null,
            "grid_auto_columns": null,
            "grid_auto_flow": null,
            "grid_auto_rows": null,
            "grid_column": null,
            "grid_gap": null,
            "grid_row": null,
            "grid_template_areas": null,
            "grid_template_columns": null,
            "grid_template_rows": null,
            "height": null,
            "justify_content": null,
            "justify_items": null,
            "left": null,
            "margin": null,
            "max_height": null,
            "max_width": null,
            "min_height": null,
            "min_width": null,
            "object_fit": null,
            "object_position": null,
            "order": null,
            "overflow": null,
            "overflow_x": null,
            "overflow_y": null,
            "padding": null,
            "right": null,
            "top": null,
            "visibility": null,
            "width": null
          }
        },
        "c327b07da56c4a3cac7e6e928bbe7ae8": {
          "model_module": "@jupyter-widgets/controls",
          "model_module_version": "1.5.0",
          "model_name": "HBoxModel",
          "state": {
            "_dom_classes": [],
            "_model_module": "@jupyter-widgets/controls",
            "_model_module_version": "1.5.0",
            "_model_name": "HBoxModel",
            "_view_count": null,
            "_view_module": "@jupyter-widgets/controls",
            "_view_module_version": "1.5.0",
            "_view_name": "HBoxView",
            "box_style": "",
            "children": [
              "IPY_MODEL_f21307ae4ce046ef9db8f1396615ec6f",
              "IPY_MODEL_5c717ae95aa34c00bf595751bcd115c3",
              "IPY_MODEL_dd8475e645f640adb39852d6d6f5bbdb"
            ],
            "layout": "IPY_MODEL_a9167e583d7c4e058214680c8c9ff277"
          }
        },
        "dd8475e645f640adb39852d6d6f5bbdb": {
          "model_module": "@jupyter-widgets/controls",
          "model_module_version": "1.5.0",
          "model_name": "HTMLModel",
          "state": {
            "_dom_classes": [],
            "_model_module": "@jupyter-widgets/controls",
            "_model_module_version": "1.5.0",
            "_model_name": "HTMLModel",
            "_view_count": null,
            "_view_module": "@jupyter-widgets/controls",
            "_view_module_version": "1.5.0",
            "_view_name": "HTMLView",
            "description": "",
            "description_tooltip": null,
            "layout": "IPY_MODEL_e0653f3d1a9c4f7989893424d36c9394",
            "placeholder": "​",
            "style": "IPY_MODEL_7ce48f5e60dc405a9baf36c41af54d8a",
            "value": " 4/100 [12:48&lt;4:50:32, 181.59s/it]"
          }
        },
        "e0653f3d1a9c4f7989893424d36c9394": {
          "model_module": "@jupyter-widgets/base",
          "model_module_version": "1.2.0",
          "model_name": "LayoutModel",
          "state": {
            "_model_module": "@jupyter-widgets/base",
            "_model_module_version": "1.2.0",
            "_model_name": "LayoutModel",
            "_view_count": null,
            "_view_module": "@jupyter-widgets/base",
            "_view_module_version": "1.2.0",
            "_view_name": "LayoutView",
            "align_content": null,
            "align_items": null,
            "align_self": null,
            "border": null,
            "bottom": null,
            "display": null,
            "flex": null,
            "flex_flow": null,
            "grid_area": null,
            "grid_auto_columns": null,
            "grid_auto_flow": null,
            "grid_auto_rows": null,
            "grid_column": null,
            "grid_gap": null,
            "grid_row": null,
            "grid_template_areas": null,
            "grid_template_columns": null,
            "grid_template_rows": null,
            "height": null,
            "justify_content": null,
            "justify_items": null,
            "left": null,
            "margin": null,
            "max_height": null,
            "max_width": null,
            "min_height": null,
            "min_width": null,
            "object_fit": null,
            "object_position": null,
            "order": null,
            "overflow": null,
            "overflow_x": null,
            "overflow_y": null,
            "padding": null,
            "right": null,
            "top": null,
            "visibility": null,
            "width": null
          }
        },
        "f0b05f3f965c4063b3151bab85587e6e": {
          "model_module": "@jupyter-widgets/controls",
          "model_module_version": "1.5.0",
          "model_name": "ProgressStyleModel",
          "state": {
            "_model_module": "@jupyter-widgets/controls",
            "_model_module_version": "1.5.0",
            "_model_name": "ProgressStyleModel",
            "_view_count": null,
            "_view_module": "@jupyter-widgets/base",
            "_view_module_version": "1.2.0",
            "_view_name": "StyleView",
            "bar_color": null,
            "description_width": ""
          }
        },
        "f21307ae4ce046ef9db8f1396615ec6f": {
          "model_module": "@jupyter-widgets/controls",
          "model_module_version": "1.5.0",
          "model_name": "HTMLModel",
          "state": {
            "_dom_classes": [],
            "_model_module": "@jupyter-widgets/controls",
            "_model_module_version": "1.5.0",
            "_model_name": "HTMLModel",
            "_view_count": null,
            "_view_module": "@jupyter-widgets/controls",
            "_view_module_version": "1.5.0",
            "_view_name": "HTMLView",
            "description": "",
            "description_tooltip": null,
            "layout": "IPY_MODEL_9812514d262b4d8596b4173933d892d5",
            "placeholder": "​",
            "style": "IPY_MODEL_09a0a70664564c078bc815880094e040",
            "value": "  4%"
          }
        }
      }
    }
  },
  "nbformat": 4,
  "nbformat_minor": 0
}
